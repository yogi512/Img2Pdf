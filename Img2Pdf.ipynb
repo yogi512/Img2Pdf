{
 "cells": [
  {
   "cell_type": "code",
   "execution_count": 4,
   "source": [
    "from PIL import Image\r\n",
    "import os \r\n",
    "import stat\r\n",
    "import time\r\n",
    "import glob\r\n",
    "import datetime as dt "
   ],
   "outputs": [],
   "metadata": {}
  },
  {
   "cell_type": "code",
   "execution_count": 16,
   "source": [
    "def img2pdf(filename,path=os.getcwd()):\r\n",
    "    os.chdir(path)\r\n",
    "    img_list=[]\r\n",
    "    file_list=[]\r\n",
    "    for file in os.listdir():\r\n",
    "        if file.endswith('.jpg' or '.png'):\r\n",
    "            file=file.split('.')[0]\r\n",
    "            file_list.append(file)  \r\n",
    "            \r\n",
    "    file_list.sort() \r\n",
    "    for x in file_list:\r\n",
    "        img = Image.open(x+'.jpg')\r\n",
    "        img_list.append(img)\r\n",
    "    im1=img_list[0]\r\n",
    "    im1.save(filename+\".pdf\", \"PDF\" ,resolution=100.0, save_all=True, append_images=img_list[1:])\r\n"
   ],
   "outputs": [],
   "metadata": {}
  },
  {
   "cell_type": "code",
   "execution_count": 18,
   "source": [
    "img2pdf('test1')"
   ],
   "outputs": [],
   "metadata": {}
  },
  {
   "cell_type": "code",
   "execution_count": 66,
   "source": [
    "filename='test'\r\n",
    "img_list=[]\r\n",
    "file_list=[]\r\n",
    "path = os.getcwd()\r\n",
    "for file in os.listdir():\r\n",
    "    if file.endswith('.jpg' or '.png'):\r\n",
    "        file_list.append(file)\r\n",
    "sorted(file_list, key=lambda t: os.stat(t).st_mtime)\r\n",
    "file_list = list(map(lambda x:x.split('.')[0],file_list))\r\n",
    "for x in file_list:\r\n",
    "    img = Image.open(x+'.jpg')\r\n",
    "    img_list.append(img)\r\n",
    "im1=img_list[0]\r\n",
    "im1.save(filename+\".pdf\", \"PDF\" ,resolution=100.0, save_all=True, append_images=img_list[1:])\r\n"
   ],
   "outputs": [],
   "metadata": {}
  }
 ],
 "metadata": {
  "orig_nbformat": 4,
  "language_info": {
   "name": "python",
   "version": "3.8.8",
   "mimetype": "text/x-python",
   "codemirror_mode": {
    "name": "ipython",
    "version": 3
   },
   "pygments_lexer": "ipython3",
   "nbconvert_exporter": "python",
   "file_extension": ".py"
  },
  "kernelspec": {
   "name": "python3",
   "display_name": "Python 3.8.8 64-bit ('base': conda)"
  },
  "interpreter": {
   "hash": "b3ba2566441a7c06988d0923437866b63cedc61552a5af99d1f4fb67d367b25f"
  }
 },
 "nbformat": 4,
 "nbformat_minor": 2
}