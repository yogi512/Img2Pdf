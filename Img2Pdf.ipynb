{
 "cells": [
  {
   "cell_type": "code",
   "execution_count": 31,
   "source": [
    "from PIL import Image\r\n",
    "import os \r\n",
    "import stat\r\n",
    "import time\r\n",
    "import glob\r\n",
    "import datetime as dt "
   ],
   "outputs": [],
   "metadata": {}
  },
  {
   "cell_type": "code",
   "execution_count": 3,
   "source": [
    "def img2pdf(filename,path=os.getcwd()):\r\n",
    "    os.chdir(path)\r\n",
    "    img_list=[]\r\n",
    "    file_list=[]\r\n",
    "    for file in os.listdir():\r\n",
    "        if file.endswith('.jpg' or '.png'):\r\n",
    "            file=file.split('.')[0]\r\n",
    "            file_list.append(file)    \r\n",
    "    for x in file_list:\r\n",
    "        img = Image.open(x+'.jpg')\r\n",
    "        img_list.append(img)\r\n",
    "    im1=img_list[0]\r\n",
    "    im1.save(filename+\".pdf\", \"PDF\" ,resolution=100.0, save_all=True, append_images=img_list[1:])\r\n"
   ],
   "outputs": [],
   "metadata": {}
  },
  {
   "cell_type": "code",
   "execution_count": 133,
   "source": [
    "img2pdf('new1','C:\\yogesh\\ECDL\\ex9')"
   ],
   "outputs": [],
   "metadata": {}
  },
  {
   "cell_type": "code",
   "execution_count": 28,
   "source": [
    "fileStatsObj = os.stat ('./1.jpg')\r\n",
    "modificationTime = time.ctime( fileStatsObj [ stat.ST_MTIME ] )\r\n",
    "\r\n",
    "modificationTime.strip().split()"
   ],
   "outputs": [
    {
     "output_type": "execute_result",
     "data": {
      "text/plain": [
       "'16:44:45'"
      ]
     },
     "metadata": {},
     "execution_count": 28
    }
   ],
   "metadata": {}
  },
  {
   "cell_type": "code",
   "execution_count": 26,
   "source": [
    "dt.datetime.now()"
   ],
   "outputs": [
    {
     "output_type": "execute_result",
     "data": {
      "text/plain": [
       "datetime.datetime(2021, 8, 16, 10, 28, 13, 176576)"
      ]
     },
     "metadata": {},
     "execution_count": 26
    }
   ],
   "metadata": {}
  },
  {
   "cell_type": "markdown",
   "source": [],
   "metadata": {}
  },
  {
   "cell_type": "code",
   "execution_count": 20,
   "source": [
    "modificationTime = dt.time.strftime('%d/%m/%Y', dt.time.localtime(os.path.getmtime('./1.jpg')))\r\n",
    "print(\"Last Modified Time : \", modificationTime )"
   ],
   "outputs": [
    {
     "output_type": "error",
     "ename": "AttributeError",
     "evalue": "type object 'datetime.time' has no attribute 'localtime'",
     "traceback": [
      "\u001b[1;31m---------------------------------------------------------------------------\u001b[0m",
      "\u001b[1;31mAttributeError\u001b[0m                            Traceback (most recent call last)",
      "\u001b[1;32m<ipython-input-20-f9411dc4cf4b>\u001b[0m in \u001b[0;36m<module>\u001b[1;34m\u001b[0m\n\u001b[1;32m----> 1\u001b[1;33m \u001b[0mmodificationTime\u001b[0m \u001b[1;33m=\u001b[0m \u001b[0mdt\u001b[0m\u001b[1;33m.\u001b[0m\u001b[0mtime\u001b[0m\u001b[1;33m.\u001b[0m\u001b[0mstrftime\u001b[0m\u001b[1;33m(\u001b[0m\u001b[1;34m'%d/%m/%Y'\u001b[0m\u001b[1;33m,\u001b[0m \u001b[0mdt\u001b[0m\u001b[1;33m.\u001b[0m\u001b[0mtime\u001b[0m\u001b[1;33m.\u001b[0m\u001b[0mlocaltime\u001b[0m\u001b[1;33m(\u001b[0m\u001b[0mos\u001b[0m\u001b[1;33m.\u001b[0m\u001b[0mpath\u001b[0m\u001b[1;33m.\u001b[0m\u001b[0mgetmtime\u001b[0m\u001b[1;33m(\u001b[0m\u001b[1;34m'./1.jpg'\u001b[0m\u001b[1;33m)\u001b[0m\u001b[1;33m)\u001b[0m\u001b[1;33m)\u001b[0m\u001b[1;33m\u001b[0m\u001b[1;33m\u001b[0m\u001b[0m\n\u001b[0m\u001b[0;32m      2\u001b[0m \u001b[0mprint\u001b[0m\u001b[1;33m(\u001b[0m\u001b[1;34m\"Last Modified Time : \"\u001b[0m\u001b[1;33m,\u001b[0m \u001b[0mmodificationTime\u001b[0m \u001b[1;33m)\u001b[0m\u001b[1;33m\u001b[0m\u001b[1;33m\u001b[0m\u001b[0m\n",
      "\u001b[1;31mAttributeError\u001b[0m: type object 'datetime.time' has no attribute 'localtime'"
     ]
    }
   ],
   "metadata": {}
  },
  {
   "cell_type": "code",
   "execution_count": 49,
   "source": [
    "files = glob.glob(os.path.expanduser(\"./*\"))\r\n",
    "sorted_by_mtime_descending = sorted(files, key=lambda t: os.stat(t).st_mtime)"
   ],
   "outputs": [],
   "metadata": {}
  },
  {
   "cell_type": "code",
   "execution_count": 50,
   "source": [
    "sorted_by_mtime_descending"
   ],
   "outputs": [
    {
     "output_type": "execute_result",
     "data": {
      "text/plain": [
       "['.\\\\1.jpg',\n",
       " '.\\\\2.jpg',\n",
       " '.\\\\LICENSE',\n",
       " '.\\\\__pycache__',\n",
       " '.\\\\Img2Pdf.ipynb',\n",
       " '.\\\\img2pdf.py']"
      ]
     },
     "metadata": {},
     "execution_count": 50
    }
   ],
   "metadata": {}
  },
  {
   "cell_type": "code",
   "execution_count": 53,
   "source": [
    "img_list=[]\r\n",
    "file_list=[]\r\n",
    "files = glob.glob(os.path.expanduser(\"./*\"))\r\n",
    "files = sorted(files, key=lambda t: os.stat(t).st_mtime)\r\n",
    "for file in files:\r\n",
    "    if file.endswith('.jpg' or '.png'):\r\n",
    "        file=file.split('.')[0]\r\n",
    "        file_list.append(file)    \r\n",
    "file_list\r\n",
    "# for x in file_list:\r\n",
    "#     img = Image.open(x+'.jpg')\r\n",
    "#     img_list.append(img)\r\n",
    "# im1=img_list[0]\r\n",
    "# # im1.save(filename+\".pdf\", \"PDF\" ,resolution=100.0, save_all=True, append_images=img_list[1:])\r\n"
   ],
   "outputs": [
    {
     "output_type": "execute_result",
     "data": {
      "text/plain": [
       "['', '']"
      ]
     },
     "metadata": {},
     "execution_count": 53
    }
   ],
   "metadata": {}
  }
 ],
 "metadata": {
  "orig_nbformat": 4,
  "language_info": {
   "name": "python",
   "version": "3.8.8",
   "mimetype": "text/x-python",
   "codemirror_mode": {
    "name": "ipython",
    "version": 3
   },
   "pygments_lexer": "ipython3",
   "nbconvert_exporter": "python",
   "file_extension": ".py"
  },
  "kernelspec": {
   "name": "python3",
   "display_name": "Python 3.8.8 64-bit ('base': conda)"
  },
  "interpreter": {
   "hash": "b3ba2566441a7c06988d0923437866b63cedc61552a5af99d1f4fb67d367b25f"
  }
 },
 "nbformat": 4,
 "nbformat_minor": 2
}